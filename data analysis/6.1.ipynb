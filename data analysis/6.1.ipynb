{
  "cells": [
    {
      "cell_type": "code",
      "execution_count": 1,
      "metadata": {
        "id": "Pdt16q5Q1Z3C"
      },
      "outputs": [],
      "source": [
        "import torch\n",
        "import torch.nn as nn\n",
        "import torch.nn.functional as F\n",
        "import skorch\n",
        "import torchvision.models as models\n",
        "import torchvision.datasets as datasets\n",
        "import torchvision.transforms as transforms\n",
        "from skorch.helper import predefined_split"
      ]
    },
    {
      "cell_type": "code",
      "execution_count": 2,
      "metadata": {
        "id": "N9RSU6V_1xam"
      },
      "outputs": [],
      "source": [
        "class MyClassifier(nn.Module):\n",
        "    def __init__(self):\n",
        "        super(MyClassifier, self).__init__()\n",
        "        self.model = models.efficientnet_b0(pretrained=True)\n",
        "        \n",
        "        for param in self.model.parameters():\n",
        "            param.requires_grad = False\n",
        "        \n",
        "        self.fc1 = nn.Sequential(\n",
        "            nn.Linear(1000, 64),\n",
        "            nn.ReLU()\n",
        "        )\n",
        "        self.fc2 = nn.Sequential(\n",
        "            nn.Dropout(0.25),\n",
        "            nn.Linear(64, 10)\n",
        "        )\n",
        "    \n",
        "    def embed(self, x):\n",
        "        return self.fc1(self.model(x))\n",
        "    \n",
        "    def forward(self, x):\n",
        "        resnet_out = self.embed(x)\n",
        "        return F.softmax(self.fc2(resnet_out), dim=-1)"
      ]
    },
    {
      "cell_type": "code",
      "execution_count": 4,
      "metadata": {},
      "outputs": [
        {
          "data": {
            "text/plain": [
              "==============================================================================================================\n",
              "Layer (type:depth-idx)                                       Output Shape              Param #\n",
              "==============================================================================================================\n",
              "MyClassifier                                                 --                        --\n",
              "├─EfficientNet: 1-1                                          [1, 1000]                 --\n",
              "│    └─Sequential: 2-1                                       [1, 1280, 3, 3]           --\n",
              "│    │    └─ConvNormActivation: 3-1                          [1, 32, 48, 48]           (928)\n",
              "│    │    └─Sequential: 3-2                                  [1, 16, 48, 48]           (1,448)\n",
              "│    │    └─Sequential: 3-3                                  [1, 24, 24, 24]           (16,714)\n",
              "│    │    └─Sequential: 3-4                                  [1, 40, 12, 12]           (46,640)\n",
              "│    │    └─Sequential: 3-5                                  [1, 80, 6, 6]             (242,930)\n",
              "│    │    └─Sequential: 3-6                                  [1, 112, 6, 6]            (543,148)\n",
              "│    │    └─Sequential: 3-7                                  [1, 192, 3, 3]            (2,026,348)\n",
              "│    │    └─Sequential: 3-8                                  [1, 320, 3, 3]            (717,232)\n",
              "│    │    └─ConvNormActivation: 3-9                          [1, 1280, 3, 3]           (412,160)\n",
              "│    └─AdaptiveAvgPool2d: 2-2                                [1, 1280, 1, 1]           --\n",
              "│    └─Sequential: 2-3                                       [1, 1000]                 --\n",
              "│    │    └─Dropout: 3-10                                    [1, 1280]                 --\n",
              "│    │    └─Linear: 3-11                                     [1, 1000]                 (1,281,000)\n",
              "├─Sequential: 1-2                                            [1, 64]                   --\n",
              "│    └─Linear: 2-4                                           [1, 64]                   64,064\n",
              "│    └─ReLU: 2-5                                             [1, 64]                   --\n",
              "├─Sequential: 1-3                                            [1, 62]                   --\n",
              "│    └─Dropout: 2-6                                          [1, 64]                   --\n",
              "│    └─Linear: 2-7                                           [1, 62]                   4,030\n",
              "==============================================================================================================\n",
              "Total params: 5,356,642\n",
              "Trainable params: 68,094\n",
              "Non-trainable params: 5,288,548\n",
              "Total mult-adds (M): 72.54\n",
              "==============================================================================================================\n",
              "Input size (MB): 0.11\n",
              "Forward/backward pass size (MB): 19.88\n",
              "Params size (MB): 21.43\n",
              "Estimated Total Size (MB): 41.42\n",
              "=============================================================================================================="
            ]
          },
          "execution_count": 4,
          "metadata": {},
          "output_type": "execute_result"
        }
      ],
      "source": [
        "from torchinfo import summary\n",
        "\n",
        "summary(MyClassifier(), input_size=(1, 3, 96, 96))"
      ]
    },
    {
      "cell_type": "code",
      "execution_count": 3,
      "metadata": {
        "colab": {
          "base_uri": "https://localhost:8080/"
        },
        "id": "E3T_qFYzDcQq",
        "outputId": "88cd8bba-cef4-4b66-8953-0cade63f78b5"
      },
      "outputs": [
        {
          "name": "stdout",
          "output_type": "stream",
          "text": [
            "Files already downloaded and verified\n"
          ]
        }
      ],
      "source": [
        "data = datasets.STL10(root='stl10', download=True, transform=transforms.ToTensor())"
      ]
    },
    {
      "cell_type": "code",
      "execution_count": 4,
      "metadata": {
        "id": "fR7ewZX03H6S"
      },
      "outputs": [],
      "source": [
        "net = skorch.NeuralNetClassifier(\n",
        "    MyClassifier,\n",
        "    max_epochs=20,\n",
        "    train_split=predefined_split(data),\n",
        "    lr=0.1,\n",
        "    batch_size=128,\n",
        "    device='cuda',\n",
        "    # criterion=\n",
        ")"
      ]
    },
    {
      "cell_type": "code",
      "execution_count": 6,
      "metadata": {
        "colab": {
          "base_uri": "https://localhost:8080/"
        },
        "id": "D3llygpS3lOh",
        "outputId": "9e6b9616-add4-42e5-a5a1-81823f48cbf8"
      },
      "outputs": [
        {
          "name": "stdout",
          "output_type": "stream",
          "text": [
            "  epoch    train_loss    valid_acc    valid_loss     dur\n",
            "-------  ------------  -----------  ------------  ------\n",
            "      1        \u001b[36m1.9202\u001b[0m       \u001b[32m0.6558\u001b[0m        \u001b[35m1.0996\u001b[0m  5.5114\n",
            "      2        \u001b[36m1.0588\u001b[0m       \u001b[32m0.7628\u001b[0m        \u001b[35m0.7346\u001b[0m  4.4213\n",
            "      3        \u001b[36m0.9112\u001b[0m       \u001b[32m0.7814\u001b[0m        \u001b[35m0.6694\u001b[0m  4.4353\n",
            "      4        \u001b[36m0.8333\u001b[0m       \u001b[32m0.8110\u001b[0m        \u001b[35m0.5697\u001b[0m  4.4731\n",
            "      5        \u001b[36m0.7806\u001b[0m       \u001b[32m0.8290\u001b[0m        \u001b[35m0.5171\u001b[0m  4.3940\n",
            "      6        \u001b[36m0.7350\u001b[0m       \u001b[32m0.8452\u001b[0m        \u001b[35m0.4797\u001b[0m  4.5165\n",
            "      7        \u001b[36m0.7150\u001b[0m       \u001b[32m0.8536\u001b[0m        \u001b[35m0.4498\u001b[0m  4.7205\n",
            "      8        \u001b[36m0.6882\u001b[0m       \u001b[32m0.8662\u001b[0m        \u001b[35m0.4207\u001b[0m  4.6702\n",
            "      9        \u001b[36m0.6508\u001b[0m       \u001b[32m0.8754\u001b[0m        \u001b[35m0.4006\u001b[0m  4.5942\n",
            "     10        \u001b[36m0.6382\u001b[0m       \u001b[32m0.8832\u001b[0m        \u001b[35m0.3647\u001b[0m  4.7451\n",
            "     11        \u001b[36m0.6272\u001b[0m       \u001b[32m0.8916\u001b[0m        \u001b[35m0.3447\u001b[0m  4.5875\n",
            "     12        \u001b[36m0.5993\u001b[0m       \u001b[32m0.8970\u001b[0m        \u001b[35m0.3312\u001b[0m  4.5117\n",
            "     13        \u001b[36m0.5757\u001b[0m       \u001b[32m0.8994\u001b[0m        \u001b[35m0.3190\u001b[0m  4.6123\n",
            "     14        0.5846       0.8992        \u001b[35m0.3163\u001b[0m  4.6317\n",
            "     15        \u001b[36m0.5586\u001b[0m       \u001b[32m0.9128\u001b[0m        \u001b[35m0.2905\u001b[0m  4.6371\n",
            "     16        \u001b[36m0.5380\u001b[0m       \u001b[32m0.9206\u001b[0m        \u001b[35m0.2733\u001b[0m  4.5553\n",
            "     17        0.5445       \u001b[32m0.9212\u001b[0m        \u001b[35m0.2724\u001b[0m  4.6073\n",
            "     18        \u001b[36m0.5238\u001b[0m       \u001b[32m0.9222\u001b[0m        \u001b[35m0.2630\u001b[0m  4.6039\n",
            "     19        \u001b[36m0.5233\u001b[0m       \u001b[32m0.9252\u001b[0m        \u001b[35m0.2513\u001b[0m  4.5954\n",
            "     20        \u001b[36m0.4937\u001b[0m       \u001b[32m0.9304\u001b[0m        \u001b[35m0.2410\u001b[0m  4.6128\n"
          ]
        }
      ],
      "source": [
        "trained = net.fit(data, y=None)"
      ]
    },
    {
      "cell_type": "code",
      "execution_count": null,
      "metadata": {
        "id": "gKVmfkl1EoKn"
      },
      "outputs": [],
      "source": [
        "from random import randint\n",
        "xs, ys = zip(*[data[randint(0, len(data))] for _ in range(500)])\n",
        "xs = torch.stack(xs)"
      ]
    },
    {
      "cell_type": "code",
      "execution_count": null,
      "metadata": {
        "id": "uP7z8TOuCAyX"
      },
      "outputs": [],
      "source": [
        "from tensorboardX import SummaryWriter\n",
        "\n",
        "with SummaryWriter() as writer:\n",
        "    writer.add_embedding(trained.module_.embed(xs.to('cuda')),\n",
        "                         metadata=ys,\n",
        "                         label_img=xs)"
      ]
    },
    {
      "cell_type": "code",
      "execution_count": null,
      "metadata": {
        "id": "IRhwLVYAGkZi"
      },
      "outputs": [],
      "source": []
    }
  ],
  "metadata": {
    "accelerator": "GPU",
    "colab": {
      "collapsed_sections": [],
      "name": "lab6.ipynb",
      "provenance": []
    },
    "kernelspec": {
      "display_name": "Python 3",
      "name": "python3"
    },
    "language_info": {
      "codemirror_mode": {
        "name": "ipython",
        "version": 3
      },
      "file_extension": ".py",
      "mimetype": "text/x-python",
      "name": "python",
      "nbconvert_exporter": "python",
      "pygments_lexer": "ipython3",
      "version": "3.9.7"
    }
  },
  "nbformat": 4,
  "nbformat_minor": 0
}
