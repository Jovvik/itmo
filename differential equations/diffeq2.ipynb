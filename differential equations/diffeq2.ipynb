{
 "cells": [
  {
   "cell_type": "code",
   "execution_count": 5,
   "metadata": {},
   "outputs": [],
   "source": [
    "# Formatting\n",
    "\n",
    "%display latex\n",
    "\n",
    "from IPython.core.interactiveshell import InteractiveShell\n",
    "InteractiveShell.ast_node_interactivity = \"all\"\n",
    "from sage.repl.ipython_kernel.interact import interact"
   ]
  },
  {
   "cell_type": "code",
   "execution_count": 25,
   "metadata": {},
   "outputs": [
    {
     "data": {
      "text/html": [
       "<html><script type=\"math/tex; mode=display\">\\newcommand{\\Bold}[1]{\\mathbf{#1}}\\left(x, C\\right)</script></html>"
      ],
      "text/latex": [
       "\\begin{math}\n",
       "\\newcommand{\\Bold}[1]{\\mathbf{#1}}\\left(x, C\\right)\n",
       "\\end{math}"
      ],
      "text/plain": [
       "(x, C)"
      ]
     },
     "execution_count": 25,
     "metadata": {},
     "output_type": "execute_result"
    }
   ],
   "source": [
    "var('x C')\n",
    "y = function('y')(x)\n",
    "dy = diff(y, x)\n",
    "ddy = diff(dy, x)\n",
    "f = y * sin(x) + dy * cos(x) - 1"
   ]
  },
  {
   "cell_type": "code",
   "execution_count": 26,
   "metadata": {},
   "outputs": [
    {
     "data": {
      "text/html": [
       "<html><script type=\"math/tex; mode=display\">\\newcommand{\\Bold}[1]{\\mathbf{#1}}\\sin\\left(x\\right) y\\left(x\\right) + \\cos\\left(x\\right) \\frac{\\partial}{\\partial x}y\\left(x\\right) - 1</script></html>"
      ],
      "text/latex": [
       "\\begin{math}\n",
       "\\newcommand{\\Bold}[1]{\\mathbf{#1}}\\sin\\left(x\\right) y\\left(x\\right) + \\cos\\left(x\\right) \\frac{\\partial}{\\partial x}y\\left(x\\right) - 1\n",
       "\\end{math}"
      ],
      "text/plain": [
       "sin(x)*y(x) + cos(x)*diff(y(x), x) - 1"
      ]
     },
     "execution_count": 26,
     "metadata": {},
     "output_type": "execute_result"
    }
   ],
   "source": [
    "f"
   ]
  },
  {
   "cell_type": "code",
   "execution_count": 27,
   "metadata": {},
   "outputs": [
    {
     "data": {
      "text/html": [
       "<html><script type=\"math/tex; mode=display\">\\newcommand{\\Bold}[1]{\\mathbf{#1}}\\left[{\\left(C + \\tan\\left(x\\right)\\right)} \\cos\\left(x\\right), \\verb|linear|\\right]</script></html>"
      ],
      "text/latex": [
       "\\begin{math}\n",
       "\\newcommand{\\Bold}[1]{\\mathbf{#1}}\\left[{\\left(C + \\tan\\left(x\\right)\\right)} \\cos\\left(x\\right), \\verb|linear|\\right]\n",
       "\\end{math}"
      ],
      "text/plain": [
       "[(_C + tan(x))*cos(x), 'linear']"
      ]
     },
     "execution_count": 27,
     "metadata": {},
     "output_type": "execute_result"
    }
   ],
   "source": [
    "desolve(f, y, show_method=True, contrib_ode=True, ivar=x)"
   ]
  },
  {
   "cell_type": "code",
   "execution_count": 32,
   "metadata": {},
   "outputs": [
    {
     "data": {
      "text/html": [
       "<html><script type=\"math/tex; mode=display\">\\newcommand{\\Bold}[1]{\\mathbf{#1}}\\left(k, m, g, t\\right)</script></html>"
      ],
      "text/latex": [
       "\\begin{math}\n",
       "\\newcommand{\\Bold}[1]{\\mathbf{#1}}\\left(k, m, g, t\\right)\n",
       "\\end{math}"
      ],
      "text/plain": [
       "(k, m, g, t)"
      ]
     },
     "execution_count": 32,
     "metadata": {},
     "output_type": "execute_result"
    },
    {
     "data": {
      "text/html": [
       "<html><script type=\"math/tex; mode=display\">\\newcommand{\\Bold}[1]{\\mathbf{#1}}-\\frac{m \\log\\left(\\frac{k v\\left(t\\right) - \\sqrt{g k m}}{k v\\left(t\\right) + \\sqrt{g k m}}\\right)}{2 \\, \\sqrt{g k m}} = C + t</script></html>"
      ],
      "text/latex": [
       "\\begin{math}\n",
       "\\newcommand{\\Bold}[1]{\\mathbf{#1}}-\\frac{m \\log\\left(\\frac{k v\\left(t\\right) - \\sqrt{g k m}}{k v\\left(t\\right) + \\sqrt{g k m}}\\right)}{2 \\, \\sqrt{g k m}} = C + t\n",
       "\\end{math}"
      ],
      "text/plain": [
       "-1/2*m*log((k*v(t) - sqrt(g*k*m))/(k*v(t) + sqrt(g*k*m)))/sqrt(g*k*m) == _C + t"
      ]
     },
     "execution_count": 32,
     "metadata": {},
     "output_type": "execute_result"
    }
   ],
   "source": [
    "var('k m g t')\n",
    "v = function('v')(t)\n",
    "dv = diff(v, t)\n",
    "f = -k * v ^ 2 + m * g - m * dv\n",
    "assume(g*k*m>0)\n",
    "res = desolve(f, v, ivar=t)\n",
    "res"
   ]
  },
  {
   "cell_type": "code",
   "execution_count": 25,
   "metadata": {},
   "outputs": [
    {
     "data": {
      "text/html": [
       "<html><script type=\"math/tex; mode=display\">\\newcommand{\\Bold}[1]{\\mathbf{#1}}a</script></html>"
      ],
      "text/latex": [
       "\\begin{math}\n",
       "\\newcommand{\\Bold}[1]{\\mathbf{#1}}a\n",
       "\\end{math}"
      ],
      "text/plain": [
       "a"
      ]
     },
     "execution_count": 25,
     "metadata": {},
     "output_type": "execute_result"
    },
    {
     "data": {
      "text/html": [
       "<html><script type=\"math/tex; mode=display\">\\newcommand{\\Bold}[1]{\\mathbf{#1}}-\\frac{m \\int_{0}^{a} \\log\\left(\\frac{k v\\left(t\\right) - \\sqrt{g k m}}{k v\\left(t\\right) + \\sqrt{g k m}}\\right)\\,{d t}}{2 \\, \\sqrt{g k m}} = C a + \\frac{1}{2} \\, a^{2}</script></html>"
      ],
      "text/latex": [
       "\\begin{math}\n",
       "\\newcommand{\\Bold}[1]{\\mathbf{#1}}-\\frac{m \\int_{0}^{a} \\log\\left(\\frac{k v\\left(t\\right) - \\sqrt{g k m}}{k v\\left(t\\right) + \\sqrt{g k m}}\\right)\\,{d t}}{2 \\, \\sqrt{g k m}} = C a + \\frac{1}{2} \\, a^{2}\n",
       "\\end{math}"
      ],
      "text/plain": [
       "-1/2*m*integrate(log((k*v(t) - sqrt(g*k*m))/(k*v(t) + sqrt(g*k*m))), t, 0, a)/sqrt(g*k*m) == _C*a + 1/2*a^2"
      ]
     },
     "execution_count": 25,
     "metadata": {},
     "output_type": "execute_result"
    }
   ],
   "source": [
    "from sage.symbolic.integration.integral import definite_integral\n",
    "\n",
    "var('a')\n",
    "\n",
    "assume(a>0)\n",
    "\n",
    "definite_integral(res, t, 0, a)"
   ]
  },
  {
   "cell_type": "code",
   "execution_count": 2,
   "metadata": {},
   "outputs": [
    {
     "data": {
      "text/html": [
       "<html><script type=\"math/tex; mode=display\">\\newcommand{\\Bold}[1]{\\mathbf{#1}}\\left(t, a\\right)</script></html>"
      ],
      "text/latex": [
       "\\begin{math}\n",
       "\\newcommand{\\Bold}[1]{\\mathbf{#1}}\\left(t, a\\right)\n",
       "\\end{math}"
      ],
      "text/plain": [
       "(t, a)"
      ]
     },
     "execution_count": 2,
     "metadata": {},
     "output_type": "execute_result"
    },
    {
     "data": {
      "text/html": [
       "<html><script type=\"math/tex; mode=display\">\\newcommand{\\Bold}[1]{\\mathbf{#1}}\\left(d, v\\right)</script></html>"
      ],
      "text/latex": [
       "\\begin{math}\n",
       "\\newcommand{\\Bold}[1]{\\mathbf{#1}}\\left(d, v\\right)\n",
       "\\end{math}"
      ],
      "text/plain": [
       "(d, v)"
      ]
     },
     "execution_count": 2,
     "metadata": {},
     "output_type": "execute_result"
    },
    {
     "data": {
      "text/html": [
       "<html><script type=\"math/tex; mode=display\">\\newcommand{\\Bold}[1]{\\mathbf{#1}}x\\left(t\\right) = \\cos\\left(a t\\right) x\\left(0\\right) + \\frac{\\sin\\left(a t\\right) \\mathrm{D}_{0}\\left(x\\right)\\left(0\\right)}{a}</script></html>"
      ],
      "text/latex": [
       "\\begin{math}\n",
       "\\newcommand{\\Bold}[1]{\\mathbf{#1}}x\\left(t\\right) = \\cos\\left(a t\\right) x\\left(0\\right) + \\frac{\\sin\\left(a t\\right) \\mathrm{D}_{0}\\left(x\\right)\\left(0\\right)}{a}\n",
       "\\end{math}"
      ],
      "text/plain": [
       "x(t) == cos(a*t)*x(0) + sin(a*t)*D[0](x)(0)/a"
      ]
     },
     "execution_count": 2,
     "metadata": {},
     "output_type": "execute_result"
    },
    {
     "data": {
      "text/html": [
       "<html><script type=\"math/tex; mode=display\">\\newcommand{\\Bold}[1]{\\mathbf{#1}}y\\left(t\\right) = \\cos\\left(a t\\right) y\\left(0\\right) + \\frac{\\sin\\left(a t\\right) \\mathrm{D}_{0}\\left(y\\right)\\left(0\\right)}{a}</script></html>"
      ],
      "text/latex": [
       "\\begin{math}\n",
       "\\newcommand{\\Bold}[1]{\\mathbf{#1}}y\\left(t\\right) = \\cos\\left(a t\\right) y\\left(0\\right) + \\frac{\\sin\\left(a t\\right) \\mathrm{D}_{0}\\left(y\\right)\\left(0\\right)}{a}\n",
       "\\end{math}"
      ],
      "text/plain": [
       "y(t) == cos(a*t)*y(0) + sin(a*t)*D[0](y)(0)/a"
      ]
     },
     "execution_count": 2,
     "metadata": {},
     "output_type": "execute_result"
    }
   ],
   "source": [
    "var(\"t a\")\n",
    "var('d v')\n",
    "x = function('x')(t)\n",
    "y = function('y')(t)\n",
    "assume(a>0)\n",
    "soln_x, soln_y = desolve_system([-diff(x, t, t) == a^2 * x, -diff(y, t, t) == a^2 * y], vars=[x, y], ivar=t)\n",
    "soln_x\n",
    "soln_y"
   ]
  },
  {
   "cell_type": "code",
   "execution_count": 15,
   "metadata": {},
   "outputs": [
    {
     "data": {
      "application/vnd.jupyter.widget-view+json": {
       "model_id": "e02509907892461c864dddba2a5db1f2",
       "version_major": 2,
       "version_minor": 0
      },
      "text/plain": [
       "Interactive function <function _ at 0x7f829a046f70> with 5 widgets\n",
       "  x0: TransformIntSlider(value=1, descripti…"
      ]
     },
     "metadata": {},
     "output_type": "display_data"
    }
   ],
   "source": [
    "%display ascii_art\n",
    "@interact\n",
    "def _(x0 = slider(-10, 10, default=1, label=\"x(0)\"), dx0 = slider(-10, 10, default=0, label=\"x'(0)\"),\n",
    "      y0 = slider(-10, 10, default=1, label=\"y(0)\"), dy0 = slider(-10, 10, default=1, label=\"y'(0)\"),\n",
    "      a_ = slider(0.1, 10, default=1, label=\"a\"),):\n",
    "    print(soln_x.subs(x(0) == x0, diff(x, t)(0) == dx0, a == a_))\n",
    "    print(soln_y.subs(y(0) == y0, diff(y, t)(0) == dy0, a == a_))\n",
    "    show(parametric_plot3d((soln_x.subs(x(0) == x0, diff(x, t)(0) == dx0, a == a_).rhs(),\n",
    "                          soln_y.subs(y(0) == y0, diff(y, t)(0) == dy0, a == a_).rhs(), t), (t, 0, 20),\n",
    "                         aspect_ratio=\"automatic\"))"
   ]
  },
  {
   "cell_type": "code",
   "execution_count": 57,
   "metadata": {},
   "outputs": [
    {
     "data": {
      "text/html": [
       "<html><script type=\"math/tex; mode=display\">\\newcommand{\\Bold}[1]{\\mathbf{#1}}\\left(C, R, L, w, t, V\\right)</script></html>"
      ],
      "text/latex": [
       "\\begin{math}\n",
       "\\newcommand{\\Bold}[1]{\\mathbf{#1}}\\left(C, R, L, w, t, V\\right)\n",
       "\\end{math}"
      ],
      "text/plain": [
       "(C, R, L, w, t, V)"
      ]
     },
     "execution_count": 57,
     "metadata": {},
     "output_type": "execute_result"
    },
    {
     "data": {
      "text/html": [
       "<html><script type=\"math/tex; mode=display\">\\newcommand{\\Bold}[1]{\\mathbf{#1}}K_{2} e^{\\left(-\\frac{1}{2} \\, t {\\left(\\sqrt{-\\frac{4}{C L} + \\frac{4}{C^{2} R^{2}}} + \\frac{2}{C R}\\right)}\\right)} + K_{1} e^{\\left(\\frac{1}{2} \\, t {\\left(\\sqrt{-\\frac{4}{C L} + \\frac{4}{C^{2} R^{2}}} - \\frac{2}{C R}\\right)}\\right)} + \\frac{2 \\, {\\left(C L^{2} V w^{3} - L V w\\right)} \\cos\\left(t w\\right) + {\\left(C^{2} L^{2} R V w^{4} - 2 \\, C L R V w^{2} + R V\\right)} \\sin\\left(t w\\right)}{C^{2} L^{2} R^{2} w^{4} - 2 \\, {\\left(C L R^{2} - 2 \\, L^{2}\\right)} w^{2} + R^{2}}</script></html>"
      ],
      "text/latex": [
       "\\begin{math}\n",
       "\\newcommand{\\Bold}[1]{\\mathbf{#1}}K_{2} e^{\\left(-\\frac{1}{2} \\, t {\\left(\\sqrt{-\\frac{4}{C L} + \\frac{4}{C^{2} R^{2}}} + \\frac{2}{C R}\\right)}\\right)} + K_{1} e^{\\left(\\frac{1}{2} \\, t {\\left(\\sqrt{-\\frac{4}{C L} + \\frac{4}{C^{2} R^{2}}} - \\frac{2}{C R}\\right)}\\right)} + \\frac{2 \\, {\\left(C L^{2} V w^{3} - L V w\\right)} \\cos\\left(t w\\right) + {\\left(C^{2} L^{2} R V w^{4} - 2 \\, C L R V w^{2} + R V\\right)} \\sin\\left(t w\\right)}{C^{2} L^{2} R^{2} w^{4} - 2 \\, {\\left(C L R^{2} - 2 \\, L^{2}\\right)} w^{2} + R^{2}}\n",
       "\\end{math}"
      ],
      "text/plain": [
       "_K2*e^(-1/2*t*(sqrt(-4/(C*L) + 4/(C^2*R^2)) + 2/(C*R))) + _K1*e^(1/2*t*(sqrt(-4/(C*L) + 4/(C^2*R^2)) - 2/(C*R))) + (2*(C*L^2*V*w^3 - L*V*w)*cos(t*w) + (C^2*L^2*R*V*w^4 - 2*C*L*R*V*w^2 + R*V)*sin(t*w))/(C^2*L^2*R^2*w^4 - 2*(C*L*R^2 - 2*L^2)*w^2 + R^2)"
      ]
     },
     "execution_count": 57,
     "metadata": {},
     "output_type": "execute_result"
    },
    {
     "ename": "ValueError",
     "evalue": "Computation failed since Maxima requested additional constraints; using the 'assume' command before evaluation *may* help (example of legal syntax is 'assume(C*R\n>0)', see `assume?` for more details)\nIs C*R\n              *sqrt(-(4*C*R^2-4*L)\n                     /(C^2*L*R^2))\n    -2 positive, negative or zero?",
     "output_type": "error",
     "traceback": [
      "\u001b[0;31m---------------------------------------------------------------------------\u001b[0m",
      "\u001b[0;31mRuntimeError\u001b[0m                              Traceback (most recent call last)",
      "\u001b[0;32m/usr/lib/python3.8/site-packages/sage/interfaces/maxima_lib.py\u001b[0m in \u001b[0;36msr_limit\u001b[0;34m(self, expr, v, a, dir)\u001b[0m\n\u001b[1;32m    985\u001b[0m                 \u001b[0mL\u001b[0m\u001b[0;34m.\u001b[0m\u001b[0mappend\u001b[0m\u001b[0;34m(\u001b[0m\u001b[0mmax_minus\u001b[0m\u001b[0;34m)\u001b[0m\u001b[0;34m\u001b[0m\u001b[0;34m\u001b[0m\u001b[0m\n\u001b[0;32m--> 986\u001b[0;31m             \u001b[0;32mreturn\u001b[0m \u001b[0mmax_to_sr\u001b[0m\u001b[0;34m(\u001b[0m\u001b[0mmaxima_eval\u001b[0m\u001b[0;34m(\u001b[0m\u001b[0;34m(\u001b[0m\u001b[0;34m[\u001b[0m\u001b[0mmax_limit\u001b[0m\u001b[0;34m]\u001b[0m\u001b[0;34m,\u001b[0m \u001b[0mL\u001b[0m\u001b[0;34m)\u001b[0m\u001b[0;34m)\u001b[0m\u001b[0;34m)\u001b[0m\u001b[0;34m\u001b[0m\u001b[0;34m\u001b[0m\u001b[0m\n\u001b[0m\u001b[1;32m    987\u001b[0m         \u001b[0;32mexcept\u001b[0m \u001b[0mRuntimeError\u001b[0m \u001b[0;32mas\u001b[0m \u001b[0merror\u001b[0m\u001b[0;34m:\u001b[0m\u001b[0;34m\u001b[0m\u001b[0;34m\u001b[0m\u001b[0m\n",
      "\u001b[0;32m/usr/lib/python3.8/site-packages/sage/libs/ecl.pyx\u001b[0m in \u001b[0;36msage.libs.ecl.EclObject.__call__ (build/cythonized/sage/libs/ecl.c:8600)\u001b[0;34m()\u001b[0m\n\u001b[1;32m    851\u001b[0m         \u001b[0mlispargs\u001b[0m \u001b[0;34m=\u001b[0m \u001b[0mEclObject\u001b[0m\u001b[0;34m(\u001b[0m\u001b[0mlist\u001b[0m\u001b[0;34m(\u001b[0m\u001b[0margs\u001b[0m\u001b[0;34m)\u001b[0m\u001b[0;34m)\u001b[0m\u001b[0;34m\u001b[0m\u001b[0;34m\u001b[0m\u001b[0m\n\u001b[0;32m--> 852\u001b[0;31m         \u001b[0;32mreturn\u001b[0m \u001b[0mecl_wrap\u001b[0m\u001b[0;34m(\u001b[0m\u001b[0mecl_safe_apply\u001b[0m\u001b[0;34m(\u001b[0m\u001b[0mself\u001b[0m\u001b[0;34m.\u001b[0m\u001b[0mobj\u001b[0m\u001b[0;34m,\u001b[0m\u001b[0;34m(\u001b[0m\u001b[0;34m<\u001b[0m\u001b[0mEclObject\u001b[0m\u001b[0;34m>\u001b[0m\u001b[0mlispargs\u001b[0m\u001b[0;34m)\u001b[0m\u001b[0;34m.\u001b[0m\u001b[0mobj\u001b[0m\u001b[0;34m)\u001b[0m\u001b[0;34m)\u001b[0m\u001b[0;34m\u001b[0m\u001b[0;34m\u001b[0m\u001b[0m\n\u001b[0m\u001b[1;32m    853\u001b[0m \u001b[0;34m\u001b[0m\u001b[0m\n",
      "\u001b[0;32m/usr/lib/python3.8/site-packages/sage/libs/ecl.pyx\u001b[0m in \u001b[0;36msage.libs.ecl.ecl_safe_apply (build/cythonized/sage/libs/ecl.c:5898)\u001b[0;34m()\u001b[0m\n\u001b[1;32m    364\u001b[0m     \u001b[0;32mif\u001b[0m \u001b[0merror\u001b[0m \u001b[0;34m!=\u001b[0m \u001b[0mNULL\u001b[0m\u001b[0;34m:\u001b[0m\u001b[0;34m\u001b[0m\u001b[0;34m\u001b[0m\u001b[0m\n\u001b[0;32m--> 365\u001b[0;31m         raise RuntimeError(\"ECL says: {}\".format(\n\u001b[0m\u001b[1;32m    366\u001b[0m             ecl_string_to_python(error)))\n",
      "\u001b[0;31mRuntimeError\u001b[0m: ECL says: Maxima asks: Is _SAGE_VAR_C*_SAGE_VAR_R\n              *sqrt(-(4*_SAGE_VAR_C*_SAGE_VAR_R^2-4*_SAGE_VAR_L)\n                     /(_SAGE_VAR_C^2*_SAGE_VAR_L*_SAGE_VAR_R^2))\n    -2 positive, negative or zero?",
      "\nDuring handling of the above exception, another exception occurred:\n",
      "\u001b[0;31mValueError\u001b[0m                                Traceback (most recent call last)",
      "\u001b[0;32m<ipython-input-57-b3790a99a51c>\u001b[0m in \u001b[0;36m<module>\u001b[0;34m\u001b[0m\n\u001b[1;32m     12\u001b[0m \u001b[0massume\u001b[0m\u001b[0;34m(\u001b[0m\u001b[0mw\u001b[0m\u001b[0;34m>\u001b[0m\u001b[0mInteger\u001b[0m\u001b[0;34m(\u001b[0m\u001b[0;36m0\u001b[0m\u001b[0;34m)\u001b[0m\u001b[0;34m)\u001b[0m\u001b[0;34m\u001b[0m\u001b[0;34m\u001b[0m\u001b[0m\n\u001b[1;32m     13\u001b[0m \u001b[0massume\u001b[0m\u001b[0;34m(\u001b[0m\u001b[0mC\u001b[0m\u001b[0;34m*\u001b[0m\u001b[0mR\u001b[0m\u001b[0;34m*\u001b[0m\u001b[0msqrt\u001b[0m\u001b[0;34m(\u001b[0m\u001b[0;34m-\u001b[0m\u001b[0;34m(\u001b[0m\u001b[0mInteger\u001b[0m\u001b[0;34m(\u001b[0m\u001b[0;36m4\u001b[0m\u001b[0;34m)\u001b[0m\u001b[0;34m*\u001b[0m\u001b[0mC\u001b[0m\u001b[0;34m*\u001b[0m\u001b[0mR\u001b[0m\u001b[0;34m**\u001b[0m\u001b[0mInteger\u001b[0m\u001b[0;34m(\u001b[0m\u001b[0;36m2\u001b[0m\u001b[0;34m)\u001b[0m\u001b[0;34m-\u001b[0m\u001b[0mInteger\u001b[0m\u001b[0;34m(\u001b[0m\u001b[0;36m4\u001b[0m\u001b[0;34m)\u001b[0m\u001b[0;34m*\u001b[0m\u001b[0mL\u001b[0m\u001b[0;34m)\u001b[0m\u001b[0;34m/\u001b[0m\u001b[0;34m(\u001b[0m\u001b[0mC\u001b[0m\u001b[0;34m**\u001b[0m\u001b[0mInteger\u001b[0m\u001b[0;34m(\u001b[0m\u001b[0;36m2\u001b[0m\u001b[0;34m)\u001b[0m\u001b[0;34m*\u001b[0m\u001b[0mL\u001b[0m\u001b[0;34m*\u001b[0m\u001b[0mR\u001b[0m\u001b[0;34m**\u001b[0m\u001b[0mInteger\u001b[0m\u001b[0;34m(\u001b[0m\u001b[0;36m2\u001b[0m\u001b[0;34m)\u001b[0m\u001b[0;34m)\u001b[0m\u001b[0;34m)\u001b[0m\u001b[0;34m-\u001b[0m\u001b[0mInteger\u001b[0m\u001b[0;34m(\u001b[0m\u001b[0;36m2\u001b[0m\u001b[0;34m)\u001b[0m\u001b[0;34m>\u001b[0m\u001b[0mInteger\u001b[0m\u001b[0;34m(\u001b[0m\u001b[0;36m0\u001b[0m\u001b[0;34m)\u001b[0m\u001b[0;34m)\u001b[0m\u001b[0;34m\u001b[0m\u001b[0;34m\u001b[0m\u001b[0m\n\u001b[0;32m---> 14\u001b[0;31m \u001b[0mlim\u001b[0m\u001b[0;34m(\u001b[0m\u001b[0mres\u001b[0m\u001b[0;34m,\u001b[0m \u001b[0mt\u001b[0m \u001b[0;34m=\u001b[0m \u001b[0moo\u001b[0m\u001b[0;34m)\u001b[0m\u001b[0;34m\u001b[0m\u001b[0;34m\u001b[0m\u001b[0m\n\u001b[0m",
      "\u001b[0;32m/usr/lib/python3.8/site-packages/sage/calculus/calculus.py\u001b[0m in \u001b[0;36mlimit\u001b[0;34m(ex, dir, taylor, algorithm, **argv)\u001b[0m\n\u001b[1;32m   1369\u001b[0m     \u001b[0;32mif\u001b[0m \u001b[0malgorithm\u001b[0m \u001b[0;34m==\u001b[0m \u001b[0;34m'maxima'\u001b[0m\u001b[0;34m:\u001b[0m\u001b[0;34m\u001b[0m\u001b[0;34m\u001b[0m\u001b[0m\n\u001b[1;32m   1370\u001b[0m         \u001b[0;32mif\u001b[0m \u001b[0mdir\u001b[0m \u001b[0;32mis\u001b[0m \u001b[0;32mNone\u001b[0m\u001b[0;34m:\u001b[0m\u001b[0;34m\u001b[0m\u001b[0;34m\u001b[0m\u001b[0m\n\u001b[0;32m-> 1371\u001b[0;31m             \u001b[0ml\u001b[0m \u001b[0;34m=\u001b[0m \u001b[0mmaxima\u001b[0m\u001b[0;34m.\u001b[0m\u001b[0msr_limit\u001b[0m\u001b[0;34m(\u001b[0m\u001b[0mex\u001b[0m\u001b[0;34m,\u001b[0m \u001b[0mv\u001b[0m\u001b[0;34m,\u001b[0m \u001b[0ma\u001b[0m\u001b[0;34m)\u001b[0m\u001b[0;34m\u001b[0m\u001b[0;34m\u001b[0m\u001b[0m\n\u001b[0m\u001b[1;32m   1372\u001b[0m         \u001b[0;32melif\u001b[0m \u001b[0mdir\u001b[0m \u001b[0;32min\u001b[0m \u001b[0mdir_plus\u001b[0m\u001b[0;34m:\u001b[0m\u001b[0;34m\u001b[0m\u001b[0;34m\u001b[0m\u001b[0m\n\u001b[1;32m   1373\u001b[0m             \u001b[0ml\u001b[0m \u001b[0;34m=\u001b[0m \u001b[0mmaxima\u001b[0m\u001b[0;34m.\u001b[0m\u001b[0msr_limit\u001b[0m\u001b[0;34m(\u001b[0m\u001b[0mex\u001b[0m\u001b[0;34m,\u001b[0m \u001b[0mv\u001b[0m\u001b[0;34m,\u001b[0m \u001b[0ma\u001b[0m\u001b[0;34m,\u001b[0m \u001b[0;34m'plus'\u001b[0m\u001b[0;34m)\u001b[0m\u001b[0;34m\u001b[0m\u001b[0;34m\u001b[0m\u001b[0m\n",
      "\u001b[0;32m/usr/lib/python3.8/site-packages/sage/interfaces/maxima_lib.py\u001b[0m in \u001b[0;36msr_limit\u001b[0;34m(self, expr, v, a, dir)\u001b[0m\n\u001b[1;32m    988\u001b[0m             \u001b[0ms\u001b[0m \u001b[0;34m=\u001b[0m \u001b[0mstr\u001b[0m\u001b[0;34m(\u001b[0m\u001b[0merror\u001b[0m\u001b[0;34m)\u001b[0m\u001b[0;34m\u001b[0m\u001b[0;34m\u001b[0m\u001b[0m\n\u001b[1;32m    989\u001b[0m             \u001b[0;32mif\u001b[0m \u001b[0;34m\"Is\"\u001b[0m \u001b[0;32min\u001b[0m \u001b[0ms\u001b[0m\u001b[0;34m:\u001b[0m \u001b[0;31m# Maxima asked for a condition\u001b[0m\u001b[0;34m\u001b[0m\u001b[0;34m\u001b[0m\u001b[0m\n\u001b[0;32m--> 990\u001b[0;31m                 \u001b[0mself\u001b[0m\u001b[0;34m.\u001b[0m\u001b[0m_missing_assumption\u001b[0m\u001b[0;34m(\u001b[0m\u001b[0ms\u001b[0m\u001b[0;34m)\u001b[0m\u001b[0;34m\u001b[0m\u001b[0;34m\u001b[0m\u001b[0m\n\u001b[0m\u001b[1;32m    991\u001b[0m             \u001b[0;32melse\u001b[0m\u001b[0;34m:\u001b[0m\u001b[0;34m\u001b[0m\u001b[0;34m\u001b[0m\u001b[0m\n\u001b[1;32m    992\u001b[0m                 \u001b[0;32mraise\u001b[0m\u001b[0;34m\u001b[0m\u001b[0;34m\u001b[0m\u001b[0m\n",
      "\u001b[0;32m/usr/lib/python3.8/site-packages/sage/interfaces/maxima_lib.py\u001b[0m in \u001b[0;36m_missing_assumption\u001b[0;34m(self, errstr)\u001b[0m\n\u001b[1;32m   1033\u001b[0m              \u001b[0;34m+\u001b[0m \u001b[0merrstr\u001b[0m\u001b[0;34m[\u001b[0m\u001b[0mjj\u001b[0m\u001b[0;34m+\u001b[0m\u001b[0;36m1\u001b[0m\u001b[0;34m:\u001b[0m\u001b[0mk\u001b[0m\u001b[0;34m]\u001b[0m \u001b[0;34m+\u001b[0m\u001b[0;34m\">0)', see `assume?` for more details)\\n\"\u001b[0m \u001b[0;34m+\u001b[0m \u001b[0merrstr\u001b[0m\u001b[0;34m\u001b[0m\u001b[0;34m\u001b[0m\u001b[0m\n\u001b[1;32m   1034\u001b[0m         \u001b[0moutstr\u001b[0m \u001b[0;34m=\u001b[0m \u001b[0moutstr\u001b[0m\u001b[0;34m.\u001b[0m\u001b[0mreplace\u001b[0m\u001b[0;34m(\u001b[0m\u001b[0;34m'_SAGE_VAR_'\u001b[0m\u001b[0;34m,\u001b[0m\u001b[0;34m''\u001b[0m\u001b[0;34m)\u001b[0m\u001b[0;34m\u001b[0m\u001b[0;34m\u001b[0m\u001b[0m\n\u001b[0;32m-> 1035\u001b[0;31m         \u001b[0;32mraise\u001b[0m \u001b[0mValueError\u001b[0m\u001b[0;34m(\u001b[0m\u001b[0moutstr\u001b[0m\u001b[0;34m)\u001b[0m\u001b[0;34m\u001b[0m\u001b[0;34m\u001b[0m\u001b[0m\n\u001b[0m\u001b[1;32m   1036\u001b[0m \u001b[0;34m\u001b[0m\u001b[0m\n\u001b[1;32m   1037\u001b[0m \u001b[0;32mdef\u001b[0m \u001b[0mis_MaximaLibElement\u001b[0m\u001b[0;34m(\u001b[0m\u001b[0mx\u001b[0m\u001b[0;34m)\u001b[0m\u001b[0;34m:\u001b[0m\u001b[0;34m\u001b[0m\u001b[0;34m\u001b[0m\u001b[0m\n",
      "\u001b[0;31mValueError\u001b[0m: Computation failed since Maxima requested additional constraints; using the 'assume' command before evaluation *may* help (example of legal syntax is 'assume(C*R\n>0)', see `assume?` for more details)\nIs C*R\n              *sqrt(-(4*C*R^2-4*L)\n                     /(C^2*L*R^2))\n    -2 positive, negative or zero?"
     ]
    }
   ],
   "source": [
    "%display latex\n",
    "\n",
    "var('C R L w t V')\n",
    "forget()\n",
    "assume(C*R^2-L<0)\n",
    "assume(L>0)\n",
    "x = function('x')(t)\n",
    "res = desolve(diff(x, t, t) + 2 / (C * R) * diff(x, t) + x / (L * C) == - 1 / R * V * w^2 * sin(w * t) + V * sin(w * t) / (L * R * C), dvar=x, ivar=t)\n",
    "res\n",
    "assume(C>0)\n",
    "assume(R>0)\n",
    "assume(w>0)\n",
    "lim(res, t = oo)"
   ]
  },
  {
   "cell_type": "code",
   "execution_count": 6,
   "metadata": {},
   "outputs": [
    {
     "data": {
      "text/html": [
       "<html><script type=\"math/tex; mode=display\">\\newcommand{\\Bold}[1]{\\mathbf{#1}}x</script></html>"
      ],
      "text/latex": [
       "\\begin{math}\n",
       "\\newcommand{\\Bold}[1]{\\mathbf{#1}}x\n",
       "\\end{math}"
      ],
      "text/plain": [
       "x"
      ]
     },
     "execution_count": 6,
     "metadata": {},
     "output_type": "execute_result"
    },
    {
     "data": {
      "text/html": [
       "<html><script type=\"math/tex; mode=display\">\\newcommand{\\Bold}[1]{\\mathbf{#1}}\\left[\\left[\\left[x = C - 3 \\, \\sqrt{-t + 1} + \\log\\left(\\sqrt{-t + 1} + 1\\right) - \\log\\left(\\sqrt{-t + 1} - 1\\right), y\\left(x\\right) = -t \\sqrt{-t + 1}\\right], \\left[x = C + 3 \\, \\sqrt{-t + 1} - \\log\\left(\\sqrt{-t + 1} + 1\\right) + \\log\\left(\\sqrt{-t + 1} - 1\\right), y\\left(x\\right) = t \\sqrt{-t + 1}\\right]\\right], \\verb|lagrange|\\right]</script></html>"
      ],
      "text/latex": [
       "\\begin{math}\n",
       "\\newcommand{\\Bold}[1]{\\mathbf{#1}}\\left[\\left[\\left[x = C - 3 \\, \\sqrt{-t + 1} + \\log\\left(\\sqrt{-t + 1} + 1\\right) - \\log\\left(\\sqrt{-t + 1} - 1\\right), y\\left(x\\right) = -t \\sqrt{-t + 1}\\right], \\left[x = C + 3 \\, \\sqrt{-t + 1} - \\log\\left(\\sqrt{-t + 1} + 1\\right) + \\log\\left(\\sqrt{-t + 1} - 1\\right), y\\left(x\\right) = t \\sqrt{-t + 1}\\right]\\right], \\verb|lagrange|\\right]\n",
       "\\end{math}"
      ],
      "text/plain": [
       "[[[x == _C - 3*sqrt(-t + 1) + log(sqrt(-t + 1) + 1) - log(sqrt(-t + 1) - 1),\n",
       "   y(x) == -t*sqrt(-t + 1)],\n",
       "  [x == _C + 3*sqrt(-t + 1) - log(sqrt(-t + 1) + 1) + log(sqrt(-t + 1) - 1),\n",
       "   y(x) == t*sqrt(-t + 1)]],\n",
       " 'lagrange']"
      ]
     },
     "execution_count": 6,
     "metadata": {},
     "output_type": "execute_result"
    }
   ],
   "source": [
    "var('x')\n",
    "y = function('y')(x)\n",
    "desolve(diff(y, x)^2 - diff(y, x)^3 - y^2, dvar=y, contrib_ode=True, show_method=True)"
   ]
  }
 ],
 "metadata": {
  "kernelspec": {
   "display_name": "SageMath 9.2",
   "language": "sage",
   "name": "sagemath"
  },
  "language_info": {
   "codemirror_mode": {
    "name": "ipython",
    "version": 3
   },
   "file_extension": ".py",
   "mimetype": "text/x-python",
   "name": "python",
   "nbconvert_exporter": "python",
   "pygments_lexer": "ipython3",
   "version": "3.8.6"
  }
 },
 "nbformat": 4,
 "nbformat_minor": 4
}
