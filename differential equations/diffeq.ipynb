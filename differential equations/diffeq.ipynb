{
 "cells": [
  {
   "cell_type": "code",
   "execution_count": 3,
   "metadata": {},
   "outputs": [],
   "source": [
    "%display latex\n",
    "\n",
    "from IPython.core.interactiveshell import InteractiveShell\n",
    "InteractiveShell.ast_node_interactivity = \"all\"\n",
    "\n",
    "y = function('y')(x)\n",
    "dy = diff(y, x)\n",
    "ddy = diff(dy, x)\n",
    "\n",
    "# # yy'+xyy''=x(y')^2+x^3\n",
    "# f = x - y / dy - 2/y"
   ]
  },
  {
   "cell_type": "code",
   "execution_count": 2,
   "metadata": {},
   "outputs": [
    {
     "data": {
      "text/html": [
       "<html><script type=\"math/tex; mode=display\">\\newcommand{\\Bold}[1]{\\mathbf{#1}}x - \\frac{y\\left(x\\right)}{\\frac{\\partial}{\\partial x}y\\left(x\\right)} - \\frac{2}{y\\left(x\\right)}</script></html>"
      ],
      "text/latex": [
       "\\begin{math}\n",
       "\\newcommand{\\Bold}[1]{\\mathbf{#1}}x - \\frac{y\\left(x\\right)}{\\frac{\\partial}{\\partial x}y\\left(x\\right)} - \\frac{2}{y\\left(x\\right)}\n",
       "\\end{math}"
      ],
      "text/plain": [
       "x - y(x)/diff(y(x), x) - 2/y(x)"
      ]
     },
     "execution_count": 2,
     "metadata": {},
     "output_type": "execute_result"
    }
   ],
   "source": [
    "f"
   ]
  },
  {
   "cell_type": "code",
   "execution_count": 4,
   "metadata": {},
   "outputs": [],
   "source": [
    "from sage.symbolic.integration.integral import definite_integral\n",
    "\n",
    "f = function('f')(x, y)\n",
    "\n",
    "# y' = f(x, y)\n",
    "f(x, y) = x + 1 - y\n",
    "x0 = 0\n",
    "y0 = 0\n",
    "\n",
    "prev = function('prev')(x)\n",
    "prev(x) = y0\n",
    "n = 2"
   ]
  },
  {
   "cell_type": "code",
   "execution_count": 5,
   "metadata": {},
   "outputs": [
    {
     "name": "stdout",
     "output_type": "stream",
     "text": [
      "x |--> 0\n"
     ]
    },
    {
     "data": {
      "text/html": [
       "<html><script type=\"math/tex; mode=display\">\\newcommand{\\Bold}[1]{\\mathbf{#1}}\\xi</script></html>"
      ],
      "text/latex": [
       "\\begin{math}\n",
       "\\newcommand{\\Bold}[1]{\\mathbf{#1}}\\xi\n",
       "\\end{math}"
      ],
      "text/plain": [
       "xi"
      ]
     },
     "execution_count": 5,
     "metadata": {},
     "output_type": "execute_result"
    },
    {
     "name": "stdout",
     "output_type": "stream",
     "text": [
      "x |--> 1/2*x^2 + x\n",
      "x |--> -1/6*x^3 + 1/2*x^2 + 2*x\n"
     ]
    }
   ],
   "source": [
    "print(prev)\n",
    "var('xi')\n",
    "for k in range(n):\n",
    "    prev = prev + definite_integral(f(xi, prev(xi)), xi, x0, x)\n",
    "    print(prev)"
   ]
  },
  {
   "cell_type": "markdown",
   "metadata": {},
   "source": [
    "То же самое, но для параметрической системы из двух уравнений:\n",
    "$$\\begin{cases} y' = y(t) \\\\\n",
    "x' = x(t) \\\\\n",
    "x(t_0) = x_0 \\\\\n",
    "y(t_0) = y_0\n",
    "\\end{cases}$$"
   ]
  },
  {
   "cell_type": "code",
   "execution_count": 6,
   "metadata": {},
   "outputs": [
    {
     "data": {
      "text/html": [
       "<html><script type=\"math/tex; mode=display\">\\newcommand{\\Bold}[1]{\\mathbf{#1}}\\left(t, \\xi, x, y\\right)</script></html>"
      ],
      "text/latex": [
       "\\begin{math}\n",
       "\\newcommand{\\Bold}[1]{\\mathbf{#1}}\\left(t, \\xi, x, y\\right)\n",
       "\\end{math}"
      ],
      "text/plain": [
       "(t, xi, x_, y_)"
      ]
     },
     "execution_count": 6,
     "metadata": {},
     "output_type": "execute_result"
    }
   ],
   "source": [
    "var('t xi x_ y_')\n",
    "x = function('x')(x_, y_, t)\n",
    "y = function('y')(x_, y_, t)\n",
    "n = 2"
   ]
  },
  {
   "cell_type": "code",
   "execution_count": 20,
   "metadata": {},
   "outputs": [],
   "source": [
    "x(x_, y_, t) = t * x_^2\n",
    "y(x_, y_, t) = sin(t) + y_\n",
    "t0 = 0\n",
    "x0 = 0\n",
    "y0 = 0"
   ]
  },
  {
   "cell_type": "code",
   "execution_count": 21,
   "metadata": {},
   "outputs": [
    {
     "data": {
      "text/html": [
       "<html><script type=\"math/tex; mode=display\">\\newcommand{\\Bold}[1]{\\mathbf{#1}}\\left( x, y, t \\right) \\ {\\mapsto} \\ t x^{2}</script></html>"
      ],
      "text/latex": [
       "\\begin{math}\n",
       "\\newcommand{\\Bold}[1]{\\mathbf{#1}}\\left( x, y, t \\right) \\ {\\mapsto} \\ t x^{2}\n",
       "\\end{math}"
      ],
      "text/plain": [
       "(x_, y_, t) |--> t*x_^2"
      ]
     },
     "execution_count": 21,
     "metadata": {},
     "output_type": "execute_result"
    },
    {
     "data": {
      "text/html": [
       "<html><script type=\"math/tex; mode=display\">\\newcommand{\\Bold}[1]{\\mathbf{#1}}\\left( x, y, t \\right) \\ {\\mapsto} \\ y + \\sin\\left(t\\right)</script></html>"
      ],
      "text/latex": [
       "\\begin{math}\n",
       "\\newcommand{\\Bold}[1]{\\mathbf{#1}}\\left( x, y, t \\right) \\ {\\mapsto} \\ y + \\sin\\left(t\\right)\n",
       "\\end{math}"
      ],
      "text/plain": [
       "(x_, y_, t) |--> y_ + sin(t)"
      ]
     },
     "execution_count": 21,
     "metadata": {},
     "output_type": "execute_result"
    }
   ],
   "source": [
    "x\n",
    "y"
   ]
  },
  {
   "cell_type": "code",
   "execution_count": 23,
   "metadata": {},
   "outputs": [
    {
     "name": "stdout",
     "output_type": "stream",
     "text": [
      "x\n"
     ]
    },
    {
     "data": {
      "text/html": [
       "<html><script type=\"math/tex; mode=display\">\\newcommand{\\Bold}[1]{\\mathbf{#1}}t \\ {\\mapsto}\\ 0</script></html>"
      ],
      "text/latex": [
       "\\begin{math}\n",
       "\\newcommand{\\Bold}[1]{\\mathbf{#1}}t \\ {\\mapsto}\\ 0\n",
       "\\end{math}"
      ],
      "text/plain": [
       "t |--> 0"
      ]
     },
     "execution_count": 23,
     "metadata": {},
     "output_type": "execute_result"
    },
    {
     "name": "stdout",
     "output_type": "stream",
     "text": [
      "y\n"
     ]
    },
    {
     "data": {
      "text/html": [
       "<html><script type=\"math/tex; mode=display\">\\newcommand{\\Bold}[1]{\\mathbf{#1}}t \\ {\\mapsto}\\ 0</script></html>"
      ],
      "text/latex": [
       "\\begin{math}\n",
       "\\newcommand{\\Bold}[1]{\\mathbf{#1}}t \\ {\\mapsto}\\ 0\n",
       "\\end{math}"
      ],
      "text/plain": [
       "t |--> 0"
      ]
     },
     "execution_count": 23,
     "metadata": {},
     "output_type": "execute_result"
    },
    {
     "name": "stdout",
     "output_type": "stream",
     "text": [
      "x\n"
     ]
    },
    {
     "data": {
      "text/html": [
       "<html><script type=\"math/tex; mode=display\">\\newcommand{\\Bold}[1]{\\mathbf{#1}}0</script></html>"
      ],
      "text/latex": [
       "\\begin{math}\n",
       "\\newcommand{\\Bold}[1]{\\mathbf{#1}}0\n",
       "\\end{math}"
      ],
      "text/plain": [
       "0"
      ]
     },
     "execution_count": 23,
     "metadata": {},
     "output_type": "execute_result"
    },
    {
     "name": "stdout",
     "output_type": "stream",
     "text": [
      "y\n"
     ]
    },
    {
     "data": {
      "text/html": [
       "<html><script type=\"math/tex; mode=display\">\\newcommand{\\Bold}[1]{\\mathbf{#1}}-\\cos\\left(t\\right) + 1</script></html>"
      ],
      "text/latex": [
       "\\begin{math}\n",
       "\\newcommand{\\Bold}[1]{\\mathbf{#1}}-\\cos\\left(t\\right) + 1\n",
       "\\end{math}"
      ],
      "text/plain": [
       "-cos(t) + 1"
      ]
     },
     "execution_count": 23,
     "metadata": {},
     "output_type": "execute_result"
    },
    {
     "name": "stdout",
     "output_type": "stream",
     "text": [
      "x\n"
     ]
    },
    {
     "data": {
      "text/html": [
       "<html><script type=\"math/tex; mode=display\">\\newcommand{\\Bold}[1]{\\mathbf{#1}}0</script></html>"
      ],
      "text/latex": [
       "\\begin{math}\n",
       "\\newcommand{\\Bold}[1]{\\mathbf{#1}}0\n",
       "\\end{math}"
      ],
      "text/plain": [
       "0"
      ]
     },
     "execution_count": 23,
     "metadata": {},
     "output_type": "execute_result"
    },
    {
     "name": "stdout",
     "output_type": "stream",
     "text": [
      "y\n"
     ]
    },
    {
     "data": {
      "text/html": [
       "<html><script type=\"math/tex; mode=display\">\\newcommand{\\Bold}[1]{\\mathbf{#1}}t - \\cos\\left(t\\right) - \\sin\\left(t\\right) + 1</script></html>"
      ],
      "text/latex": [
       "\\begin{math}\n",
       "\\newcommand{\\Bold}[1]{\\mathbf{#1}}t - \\cos\\left(t\\right) - \\sin\\left(t\\right) + 1\n",
       "\\end{math}"
      ],
      "text/plain": [
       "t - cos(t) - sin(t) + 1"
      ]
     },
     "execution_count": 23,
     "metadata": {},
     "output_type": "execute_result"
    }
   ],
   "source": [
    "prev_x = function('prev_x')(t)\n",
    "prev_y = function('prev_y')(t)\n",
    "prev_x(t) = x0\n",
    "prev_y(t) = y0\n",
    "\n",
    "print('x')\n",
    "prev_x\n",
    "print('y')\n",
    "prev_y\n",
    "for k in range(n):\n",
    "#     tmp = x0 + definite_integral(x(prev_x(xi), prev_y(xi), xi), xi, t0, t)\n",
    "    prev_y = y0 + definite_integral(y(0, prev_y(xi), xi), xi, t0, t)\n",
    "    prev_x = tmp\n",
    "    print('x')\n",
    "    prev_x\n",
    "    print('y')\n",
    "    prev_y"
   ]
  },
  {
   "cell_type": "code",
   "execution_count": 15,
   "metadata": {},
   "outputs": [
    {
     "data": {
      "text/html": [
       "<html><script type=\"math/tex; mode=display\">\\newcommand{\\Bold}[1]{\\mathbf{#1}}\\left(-0.6666666666666666, 3.1666666666666665\\right)</script></html>"
      ],
      "text/latex": [
       "\\begin{math}\n",
       "\\newcommand{\\Bold}[1]{\\mathbf{#1}}\\left(-0.6666666666666666, 3.1666666666666665\\right)\n",
       "\\end{math}"
      ],
      "text/plain": [
       "(-0.6666666666666666, 3.1666666666666665)"
      ]
     },
     "execution_count": 15,
     "metadata": {},
     "output_type": "execute_result"
    }
   ],
   "source": [
    "float(prev_x(1)), float(prev_y(1))"
   ]
  },
  {
   "cell_type": "markdown",
   "metadata": {},
   "source": [
    "То же самое, но для системы из двух уравнений:\n",
    "$$\\begin{cases} y = y(x) \\\\\n",
    "x = x(y) \\\\\n",
    "x(y_0) = x_0 \\\\\n",
    "y(x_0) = y_0\n",
    "\\end{cases}$$"
   ]
  },
  {
   "cell_type": "code",
   "execution_count": 8,
   "metadata": {},
   "outputs": [
    {
     "data": {
      "text/html": [
       "<html><script type=\"math/tex; mode=display\">\\newcommand{\\Bold}[1]{\\mathbf{#1}}\\left[\\left[\\frac{x y\\left(x\\right) - 1}{y\\left(x\\right)^{2}} = C\\right], \\verb|factor|\\right]</script></html>"
      ],
      "text/latex": [
       "\\begin{math}\n",
       "\\newcommand{\\Bold}[1]{\\mathbf{#1}}\\left[\\left[\\frac{x y\\left(x\\right) - 1}{y\\left(x\\right)^{2}} = C\\right], \\verb|factor|\\right]\n",
       "\\end{math}"
      ],
      "text/plain": [
       "[[(x*y(x) - 1)/y(x)^2 == _C], 'factor']"
      ]
     },
     "execution_count": 8,
     "metadata": {},
     "output_type": "execute_result"
    }
   ],
   "source": [
    "res = desolve(f, y, show_method=True, contrib_ode=True)\n",
    "res"
   ]
  },
  {
   "cell_type": "code",
   "execution_count": 12,
   "metadata": {},
   "outputs": [
    {
     "data": {
      "text/html": [
       "<html><script type=\"math/tex; mode=display\">\\newcommand{\\Bold}[1]{\\mathbf{#1}}\\frac{y\\left(1\\right) - 1}{y\\left(1\\right)^{2}} = C</script></html>"
      ],
      "text/latex": [
       "\\begin{math}\n",
       "\\newcommand{\\Bold}[1]{\\mathbf{#1}}\\frac{y\\left(1\\right) - 1}{y\\left(1\\right)^{2}} = C\n",
       "\\end{math}"
      ],
      "text/plain": [
       "(y(1) - 1)/y(1)^2 == _C"
      ]
     },
     "execution_count": 12,
     "metadata": {},
     "output_type": "execute_result"
    }
   ],
   "source": [
    "res[0][0].subs(y==4, x==1)"
   ]
  },
  {
   "cell_type": "code",
   "execution_count": 14,
   "metadata": {},
   "outputs": [
    {
     "data": {
      "text/html": [
       "<html><script type=\"math/tex; mode=display\">\\newcommand{\\Bold}[1]{\\mathbf{#1}}1.1875</script></html>"
      ],
      "text/latex": [
       "\\begin{math}\n",
       "\\newcommand{\\Bold}[1]{\\mathbf{#1}}1.1875\n",
       "\\end{math}"
      ],
      "text/plain": [
       "1.1875"
      ]
     },
     "execution_count": 14,
     "metadata": {},
     "output_type": "execute_result"
    }
   ],
   "source": [
    "float(19 / 16)"
   ]
  },
  {
   "cell_type": "code",
   "execution_count": 4,
   "metadata": {},
   "outputs": [
    {
     "ename": "TypeError",
     "evalue": "ECL says: Error executing code in Maxima: desolve: can't handle this case.",
     "output_type": "error",
     "traceback": [
      "\u001b[0;31m---------------------------------------------------------------------------\u001b[0m",
      "\u001b[0;31mRuntimeError\u001b[0m                              Traceback (most recent call last)",
      "\u001b[0;32m/usr/lib/python3.8/site-packages/sage/interfaces/interface.py\u001b[0m in \u001b[0;36m__init__\u001b[0;34m(self, parent, value, is_name, name)\u001b[0m\n\u001b[1;32m    718\u001b[0m             \u001b[0;32mtry\u001b[0m\u001b[0;34m:\u001b[0m\u001b[0;34m\u001b[0m\u001b[0;34m\u001b[0m\u001b[0m\n\u001b[0;32m--> 719\u001b[0;31m                 \u001b[0mself\u001b[0m\u001b[0;34m.\u001b[0m\u001b[0m_name\u001b[0m \u001b[0;34m=\u001b[0m \u001b[0mparent\u001b[0m\u001b[0;34m.\u001b[0m\u001b[0m_create\u001b[0m\u001b[0;34m(\u001b[0m\u001b[0mvalue\u001b[0m\u001b[0;34m,\u001b[0m \u001b[0mname\u001b[0m\u001b[0;34m=\u001b[0m\u001b[0mname\u001b[0m\u001b[0;34m)\u001b[0m\u001b[0;34m\u001b[0m\u001b[0;34m\u001b[0m\u001b[0m\n\u001b[0m\u001b[1;32m    720\u001b[0m             \u001b[0;32mexcept\u001b[0m \u001b[0;34m(\u001b[0m\u001b[0mTypeError\u001b[0m\u001b[0;34m,\u001b[0m \u001b[0mRuntimeError\u001b[0m\u001b[0;34m,\u001b[0m \u001b[0mValueError\u001b[0m\u001b[0;34m)\u001b[0m \u001b[0;32mas\u001b[0m \u001b[0mx\u001b[0m\u001b[0;34m:\u001b[0m\u001b[0;34m\u001b[0m\u001b[0;34m\u001b[0m\u001b[0m\n",
      "\u001b[0;32m/usr/lib/python3.8/site-packages/sage/interfaces/maxima_lib.py\u001b[0m in \u001b[0;36m_create\u001b[0;34m(self, value, name)\u001b[0m\n\u001b[1;32m    605\u001b[0m             \u001b[0;32melse\u001b[0m\u001b[0;34m:\u001b[0m\u001b[0;34m\u001b[0m\u001b[0;34m\u001b[0m\u001b[0m\n\u001b[0;32m--> 606\u001b[0;31m                 \u001b[0mself\u001b[0m\u001b[0;34m.\u001b[0m\u001b[0mset\u001b[0m\u001b[0;34m(\u001b[0m\u001b[0mname\u001b[0m\u001b[0;34m,\u001b[0m \u001b[0mvalue\u001b[0m\u001b[0;34m)\u001b[0m\u001b[0;34m\u001b[0m\u001b[0;34m\u001b[0m\u001b[0m\n\u001b[0m\u001b[1;32m    607\u001b[0m         \u001b[0;32mexcept\u001b[0m \u001b[0mRuntimeError\u001b[0m \u001b[0;32mas\u001b[0m \u001b[0merror\u001b[0m\u001b[0;34m:\u001b[0m\u001b[0;34m\u001b[0m\u001b[0;34m\u001b[0m\u001b[0m\n",
      "\u001b[0;32m/usr/lib/python3.8/site-packages/sage/interfaces/maxima_lib.py\u001b[0m in \u001b[0;36mset\u001b[0;34m(self, var, value)\u001b[0m\n\u001b[1;32m    513\u001b[0m         \u001b[0mcmd\u001b[0m \u001b[0;34m=\u001b[0m \u001b[0;34m'%s : %s$'\u001b[0m\u001b[0;34m%\u001b[0m\u001b[0;34m(\u001b[0m\u001b[0mvar\u001b[0m\u001b[0;34m,\u001b[0m \u001b[0mvalue\u001b[0m\u001b[0;34m.\u001b[0m\u001b[0mrstrip\u001b[0m\u001b[0;34m(\u001b[0m\u001b[0;34m';'\u001b[0m\u001b[0;34m)\u001b[0m\u001b[0;34m)\u001b[0m\u001b[0;34m\u001b[0m\u001b[0;34m\u001b[0m\u001b[0m\n\u001b[0;32m--> 514\u001b[0;31m         \u001b[0mself\u001b[0m\u001b[0;34m.\u001b[0m\u001b[0meval\u001b[0m\u001b[0;34m(\u001b[0m\u001b[0mcmd\u001b[0m\u001b[0;34m)\u001b[0m\u001b[0;34m\u001b[0m\u001b[0;34m\u001b[0m\u001b[0m\n\u001b[0m\u001b[1;32m    515\u001b[0m \u001b[0;34m\u001b[0m\u001b[0m\n",
      "\u001b[0;32m/usr/lib/python3.8/site-packages/sage/interfaces/maxima_lib.py\u001b[0m in \u001b[0;36m_eval_line\u001b[0;34m(self, line, locals, reformat, **kwds)\u001b[0m\n\u001b[1;32m    459\u001b[0m                 \u001b[0;32mif\u001b[0m \u001b[0mstatement\u001b[0m\u001b[0;34m:\u001b[0m\u001b[0;34m\u001b[0m\u001b[0;34m\u001b[0m\u001b[0m\n\u001b[0;32m--> 460\u001b[0;31m                     \u001b[0mmaxima_eval\u001b[0m\u001b[0;34m(\u001b[0m\u001b[0;34m\"#$%s$\"\u001b[0m \u001b[0;34m%\u001b[0m \u001b[0mstatement\u001b[0m\u001b[0;34m)\u001b[0m\u001b[0;34m\u001b[0m\u001b[0;34m\u001b[0m\u001b[0m\n\u001b[0m\u001b[1;32m    461\u001b[0m         \u001b[0;32mif\u001b[0m \u001b[0;32mnot\u001b[0m \u001b[0mreformat\u001b[0m\u001b[0;34m:\u001b[0m\u001b[0;34m\u001b[0m\u001b[0;34m\u001b[0m\u001b[0m\n",
      "\u001b[0;32m/usr/lib/python3.8/site-packages/sage/libs/ecl.pyx\u001b[0m in \u001b[0;36msage.libs.ecl.EclObject.__call__ (build/cythonized/sage/libs/ecl.c:8600)\u001b[0;34m()\u001b[0m\n\u001b[1;32m    851\u001b[0m         \u001b[0mlispargs\u001b[0m \u001b[0;34m=\u001b[0m \u001b[0mEclObject\u001b[0m\u001b[0;34m(\u001b[0m\u001b[0mlist\u001b[0m\u001b[0;34m(\u001b[0m\u001b[0margs\u001b[0m\u001b[0;34m)\u001b[0m\u001b[0;34m)\u001b[0m\u001b[0;34m\u001b[0m\u001b[0;34m\u001b[0m\u001b[0m\n\u001b[0;32m--> 852\u001b[0;31m         \u001b[0;32mreturn\u001b[0m \u001b[0mecl_wrap\u001b[0m\u001b[0;34m(\u001b[0m\u001b[0mecl_safe_apply\u001b[0m\u001b[0;34m(\u001b[0m\u001b[0mself\u001b[0m\u001b[0;34m.\u001b[0m\u001b[0mobj\u001b[0m\u001b[0;34m,\u001b[0m\u001b[0;34m(\u001b[0m\u001b[0;34m<\u001b[0m\u001b[0mEclObject\u001b[0m\u001b[0;34m>\u001b[0m\u001b[0mlispargs\u001b[0m\u001b[0;34m)\u001b[0m\u001b[0;34m.\u001b[0m\u001b[0mobj\u001b[0m\u001b[0;34m)\u001b[0m\u001b[0;34m)\u001b[0m\u001b[0;34m\u001b[0m\u001b[0;34m\u001b[0m\u001b[0m\n\u001b[0m\u001b[1;32m    853\u001b[0m \u001b[0;34m\u001b[0m\u001b[0m\n",
      "\u001b[0;32m/usr/lib/python3.8/site-packages/sage/libs/ecl.pyx\u001b[0m in \u001b[0;36msage.libs.ecl.ecl_safe_apply (build/cythonized/sage/libs/ecl.c:5898)\u001b[0;34m()\u001b[0m\n\u001b[1;32m    364\u001b[0m     \u001b[0;32mif\u001b[0m \u001b[0merror\u001b[0m \u001b[0;34m!=\u001b[0m \u001b[0mNULL\u001b[0m\u001b[0;34m:\u001b[0m\u001b[0;34m\u001b[0m\u001b[0;34m\u001b[0m\u001b[0m\n\u001b[0;32m--> 365\u001b[0;31m         raise RuntimeError(\"ECL says: {}\".format(\n\u001b[0m\u001b[1;32m    366\u001b[0m             ecl_string_to_python(error)))\n",
      "\u001b[0;31mRuntimeError\u001b[0m: ECL says: Error executing code in Maxima: desolve: can't handle this case.",
      "\nDuring handling of the above exception, another exception occurred:\n",
      "\u001b[0;31mTypeError\u001b[0m                                 Traceback (most recent call last)",
      "\u001b[0;32m<ipython-input-4-13febba4d3c2>\u001b[0m in \u001b[0;36m<module>\u001b[0;34m\u001b[0m\n\u001b[0;32m----> 1\u001b[0;31m \u001b[0mdesolve_laplace\u001b[0m\u001b[0;34m(\u001b[0m\u001b[0mf\u001b[0m \u001b[0;34m==\u001b[0m \u001b[0mInteger\u001b[0m\u001b[0;34m(\u001b[0m\u001b[0;36m0\u001b[0m\u001b[0;34m)\u001b[0m\u001b[0;34m,\u001b[0m \u001b[0my\u001b[0m\u001b[0;34m,\u001b[0m \u001b[0mics\u001b[0m\u001b[0;34m=\u001b[0m\u001b[0;34m[\u001b[0m\u001b[0mInteger\u001b[0m\u001b[0;34m(\u001b[0m\u001b[0;36m1\u001b[0m\u001b[0;34m)\u001b[0m\u001b[0;34m,\u001b[0m \u001b[0mInteger\u001b[0m\u001b[0;34m(\u001b[0m\u001b[0;36m4\u001b[0m\u001b[0;34m)\u001b[0m\u001b[0;34m]\u001b[0m\u001b[0;34m)\u001b[0m\u001b[0;34m\u001b[0m\u001b[0;34m\u001b[0m\u001b[0m\n\u001b[0m",
      "\u001b[0;32m/usr/lib/python3.8/site-packages/sage/calculus/desolvers.py\u001b[0m in \u001b[0;36mdesolve_laplace\u001b[0;34m(de, dvar, ics, ivar)\u001b[0m\n\u001b[1;32m    819\u001b[0m     \u001b[0mdvar_str\u001b[0m \u001b[0;34m=\u001b[0m \u001b[0mdvar_str\u001b[0m\u001b[0;34m[\u001b[0m\u001b[0;34m:\u001b[0m\u001b[0mi\u001b[0m\u001b[0;34m+\u001b[0m\u001b[0;36m1\u001b[0m\u001b[0;34m]\u001b[0m \u001b[0;34m+\u001b[0m \u001b[0;34m'_SAGE_VAR_'\u001b[0m \u001b[0;34m+\u001b[0m \u001b[0mdvar_str\u001b[0m\u001b[0;34m[\u001b[0m\u001b[0mi\u001b[0m\u001b[0;34m+\u001b[0m\u001b[0;36m1\u001b[0m\u001b[0;34m:\u001b[0m\u001b[0;34m]\u001b[0m\u001b[0;34m\u001b[0m\u001b[0;34m\u001b[0m\u001b[0m\n\u001b[1;32m    820\u001b[0m     \u001b[0mcmd\u001b[0m \u001b[0;34m=\u001b[0m \u001b[0msanitize_var\u001b[0m\u001b[0;34m(\u001b[0m\u001b[0;34m\"desolve(\"\u001b[0m\u001b[0;34m+\u001b[0m\u001b[0mde0\u001b[0m\u001b[0;34m.\u001b[0m\u001b[0mstr\u001b[0m\u001b[0;34m(\u001b[0m\u001b[0;34m)\u001b[0m\u001b[0;34m+\u001b[0m\u001b[0;34m\",\"\u001b[0m\u001b[0;34m+\u001b[0m\u001b[0mdvar_str\u001b[0m\u001b[0;34m+\u001b[0m\u001b[0;34m\")\"\u001b[0m\u001b[0;34m)\u001b[0m\u001b[0;34m\u001b[0m\u001b[0;34m\u001b[0m\u001b[0m\n\u001b[0;32m--> 821\u001b[0;31m     \u001b[0msoln\u001b[0m\u001b[0;34m=\u001b[0m\u001b[0mP\u001b[0m\u001b[0;34m(\u001b[0m\u001b[0mcmd\u001b[0m\u001b[0;34m)\u001b[0m\u001b[0;34m.\u001b[0m\u001b[0mrhs\u001b[0m\u001b[0;34m(\u001b[0m\u001b[0;34m)\u001b[0m\u001b[0;34m\u001b[0m\u001b[0;34m\u001b[0m\u001b[0m\n\u001b[0m\u001b[1;32m    822\u001b[0m     \u001b[0;32mif\u001b[0m \u001b[0mstr\u001b[0m\u001b[0;34m(\u001b[0m\u001b[0msoln\u001b[0m\u001b[0;34m)\u001b[0m\u001b[0;34m.\u001b[0m\u001b[0mstrip\u001b[0m\u001b[0;34m(\u001b[0m\u001b[0;34m)\u001b[0m \u001b[0;34m==\u001b[0m \u001b[0;34m'false'\u001b[0m\u001b[0;34m:\u001b[0m\u001b[0;34m\u001b[0m\u001b[0;34m\u001b[0m\u001b[0m\n\u001b[1;32m    823\u001b[0m         \u001b[0;32mraise\u001b[0m \u001b[0mNotImplementedError\u001b[0m\u001b[0;34m(\u001b[0m\u001b[0;34m\"Maxima was unable to solve this ODE.\"\u001b[0m\u001b[0;34m)\u001b[0m\u001b[0;34m\u001b[0m\u001b[0;34m\u001b[0m\u001b[0m\n",
      "\u001b[0;32m/usr/lib/python3.8/site-packages/sage/interfaces/interface.py\u001b[0m in \u001b[0;36m__call__\u001b[0;34m(self, x, name)\u001b[0m\n\u001b[1;32m    294\u001b[0m \u001b[0;34m\u001b[0m\u001b[0m\n\u001b[1;32m    295\u001b[0m         \u001b[0;32mif\u001b[0m \u001b[0misinstance\u001b[0m\u001b[0;34m(\u001b[0m\u001b[0mx\u001b[0m\u001b[0;34m,\u001b[0m \u001b[0mstr\u001b[0m\u001b[0;34m)\u001b[0m\u001b[0;34m:\u001b[0m\u001b[0;34m\u001b[0m\u001b[0;34m\u001b[0m\u001b[0m\n\u001b[0;32m--> 296\u001b[0;31m             \u001b[0;32mreturn\u001b[0m \u001b[0mcls\u001b[0m\u001b[0;34m(\u001b[0m\u001b[0mself\u001b[0m\u001b[0;34m,\u001b[0m \u001b[0mx\u001b[0m\u001b[0;34m,\u001b[0m \u001b[0mname\u001b[0m\u001b[0;34m=\u001b[0m\u001b[0mname\u001b[0m\u001b[0;34m)\u001b[0m\u001b[0;34m\u001b[0m\u001b[0;34m\u001b[0m\u001b[0m\n\u001b[0m\u001b[1;32m    297\u001b[0m         \u001b[0;32mtry\u001b[0m\u001b[0;34m:\u001b[0m\u001b[0;34m\u001b[0m\u001b[0;34m\u001b[0m\u001b[0m\n\u001b[1;32m    298\u001b[0m             \u001b[0;31m# Special methods do not and should not have an option to\u001b[0m\u001b[0;34m\u001b[0m\u001b[0;34m\u001b[0m\u001b[0;34m\u001b[0m\u001b[0m\n",
      "\u001b[0;32m/usr/lib/python3.8/site-packages/sage/interfaces/interface.py\u001b[0m in \u001b[0;36m__init__\u001b[0;34m(self, parent, value, is_name, name)\u001b[0m\n\u001b[1;32m    719\u001b[0m                 \u001b[0mself\u001b[0m\u001b[0;34m.\u001b[0m\u001b[0m_name\u001b[0m \u001b[0;34m=\u001b[0m \u001b[0mparent\u001b[0m\u001b[0;34m.\u001b[0m\u001b[0m_create\u001b[0m\u001b[0;34m(\u001b[0m\u001b[0mvalue\u001b[0m\u001b[0;34m,\u001b[0m \u001b[0mname\u001b[0m\u001b[0;34m=\u001b[0m\u001b[0mname\u001b[0m\u001b[0;34m)\u001b[0m\u001b[0;34m\u001b[0m\u001b[0;34m\u001b[0m\u001b[0m\n\u001b[1;32m    720\u001b[0m             \u001b[0;32mexcept\u001b[0m \u001b[0;34m(\u001b[0m\u001b[0mTypeError\u001b[0m\u001b[0;34m,\u001b[0m \u001b[0mRuntimeError\u001b[0m\u001b[0;34m,\u001b[0m \u001b[0mValueError\u001b[0m\u001b[0;34m)\u001b[0m \u001b[0;32mas\u001b[0m \u001b[0mx\u001b[0m\u001b[0;34m:\u001b[0m\u001b[0;34m\u001b[0m\u001b[0;34m\u001b[0m\u001b[0m\n\u001b[0;32m--> 721\u001b[0;31m                 \u001b[0;32mraise\u001b[0m \u001b[0mTypeError\u001b[0m\u001b[0;34m(\u001b[0m\u001b[0mx\u001b[0m\u001b[0;34m)\u001b[0m\u001b[0;34m\u001b[0m\u001b[0;34m\u001b[0m\u001b[0m\n\u001b[0m\u001b[1;32m    722\u001b[0m \u001b[0;34m\u001b[0m\u001b[0m\n\u001b[1;32m    723\u001b[0m     \u001b[0;32mdef\u001b[0m \u001b[0m_latex_\u001b[0m\u001b[0;34m(\u001b[0m\u001b[0mself\u001b[0m\u001b[0;34m)\u001b[0m\u001b[0;34m:\u001b[0m\u001b[0;34m\u001b[0m\u001b[0;34m\u001b[0m\u001b[0m\n",
      "\u001b[0;31mTypeError\u001b[0m: ECL says: Error executing code in Maxima: desolve: can't handle this case."
     ]
    }
   ],
   "source": [
    "desolve_laplace(f == 0, y, ics=[1, 4])"
   ]
  },
  {
   "cell_type": "code",
   "execution_count": 5,
   "metadata": {},
   "outputs": [
    {
     "data": {
      "text/html": [
       "<html><script type=\"math/tex; mode=display\">\\newcommand{\\Bold}[1]{\\mathbf{#1}}\\left[\\left[1, 4\\right], \\left[1.1, 4.742044744466991\\right], \\left[1.2, 5.415210404239346\\right], \\left[1.3, 6.052218803962542\\right], \\left[1.4, 6.666799834401627\\right], \\left[1.5, 7.266129222622116\\right], \\left[1.6, 7.854452186702573\\right], \\left[1.7, 8.434492272041997\\right], \\left[1.8, 9.008100390329224\\right], \\left[1.9, 9.576590020159873\\right], \\left[2.0, 10.14092529566952\\right], \\left[2.1, 10.70183343947202\\right], \\left[2.2, 11.2598754158419\\right], \\left[2.3, 11.81549216756907\\right], \\left[2.4, 12.36903590925353\\right], \\left[2.5, 12.92079191615596\\right], \\left[2.6, 13.47099406805334\\right], \\left[2.7, 14.01983617357054\\right], \\left[2.8, 14.56748037358637\\right], \\left[2.9, 15.11406347923363\\right], \\left[3.0, 15.65970182173509\\right], \\left[3.1, 16.20449501188483\\right], \\left[3.2, 16.74852888855425\\right], \\left[3.3, 17.29187785578532\\right], \\left[3.4, 17.83460675322229\\right], \\left[3.5, 18.37677236634675\\right], \\left[3.6, 18.9184246558229\\right], \\left[3.7, 19.45960776572046\\right], \\left[3.8, 20.00036085614276\\right], \\left[3.9, 20.54071879528414\\right], \\left[4.0, 21.08071273810933\\right], \\left[4.1, 21.62037061294647\\right], \\left[4.2, 22.15971753279846\\right], \\left[4.300000000000001, 22.69877614473413\\right], \\left[4.4, 23.23756692805671\\right], \\left[4.5, 23.7761084498707\\right], \\left[4.6, 24.31441758503681\\right], \\left[4.7, 24.85250970621532\\right], \\left[4.800000000000001, 25.39039884867165\\right], \\left[4.9, 25.92809785369619\\right], \\left[5.0, 26.46561849382884\\right]\\right]</script></html>"
      ],
      "text/latex": [
       "\\begin{math}\n",
       "\\newcommand{\\Bold}[1]{\\mathbf{#1}}\\left[\\left[1, 4\\right], \\left[1.1, 4.742044744466991\\right], \\left[1.2, 5.415210404239346\\right], \\left[1.3, 6.052218803962542\\right], \\left[1.4, 6.666799834401627\\right], \\left[1.5, 7.266129222622116\\right], \\left[1.6, 7.854452186702573\\right], \\left[1.7, 8.434492272041997\\right], \\left[1.8, 9.008100390329224\\right], \\left[1.9, 9.576590020159873\\right], \\left[2.0, 10.14092529566952\\right], \\left[2.1, 10.70183343947202\\right], \\left[2.2, 11.2598754158419\\right], \\left[2.3, 11.81549216756907\\right], \\left[2.4, 12.36903590925353\\right], \\left[2.5, 12.92079191615596\\right], \\left[2.6, 13.47099406805334\\right], \\left[2.7, 14.01983617357054\\right], \\left[2.8, 14.56748037358637\\right], \\left[2.9, 15.11406347923363\\right], \\left[3.0, 15.65970182173509\\right], \\left[3.1, 16.20449501188483\\right], \\left[3.2, 16.74852888855425\\right], \\left[3.3, 17.29187785578532\\right], \\left[3.4, 17.83460675322229\\right], \\left[3.5, 18.37677236634675\\right], \\left[3.6, 18.9184246558229\\right], \\left[3.7, 19.45960776572046\\right], \\left[3.8, 20.00036085614276\\right], \\left[3.9, 20.54071879528414\\right], \\left[4.0, 21.08071273810933\\right], \\left[4.1, 21.62037061294647\\right], \\left[4.2, 22.15971753279846\\right], \\left[4.300000000000001, 22.69877614473413\\right], \\left[4.4, 23.23756692805671\\right], \\left[4.5, 23.7761084498707\\right], \\left[4.6, 24.31441758503681\\right], \\left[4.7, 24.85250970621532\\right], \\left[4.800000000000001, 25.39039884867165\\right], \\left[4.9, 25.92809785369619\\right], \\left[5.0, 26.46561849382884\\right]\\right]\n",
       "\\end{math}"
      ],
      "text/plain": [
       "[[1, 4],\n",
       " [1.1, 4.742044744466991],\n",
       " [1.2, 5.415210404239346],\n",
       " [1.3, 6.052218803962542],\n",
       " [1.4, 6.666799834401627],\n",
       " [1.5, 7.266129222622116],\n",
       " [1.6, 7.854452186702573],\n",
       " [1.7, 8.434492272041997],\n",
       " [1.8, 9.008100390329224],\n",
       " [1.9, 9.576590020159873],\n",
       " [2.0, 10.14092529566952],\n",
       " [2.1, 10.70183343947202],\n",
       " [2.2, 11.2598754158419],\n",
       " [2.3, 11.81549216756907],\n",
       " [2.4, 12.36903590925353],\n",
       " [2.5, 12.92079191615596],\n",
       " [2.6, 13.47099406805334],\n",
       " [2.7, 14.01983617357054],\n",
       " [2.8, 14.56748037358637],\n",
       " [2.9, 15.11406347923363],\n",
       " [3.0, 15.65970182173509],\n",
       " [3.1, 16.20449501188483],\n",
       " [3.2, 16.74852888855425],\n",
       " [3.3, 17.29187785578532],\n",
       " [3.4, 17.83460675322229],\n",
       " [3.5, 18.37677236634675],\n",
       " [3.6, 18.9184246558229],\n",
       " [3.7, 19.45960776572046],\n",
       " [3.8, 20.00036085614276],\n",
       " [3.9, 20.54071879528414],\n",
       " [4.0, 21.08071273810933],\n",
       " [4.1, 21.62037061294647],\n",
       " [4.2, 22.15971753279846],\n",
       " [4.300000000000001, 22.69877614473413],\n",
       " [4.4, 23.23756692805671],\n",
       " [4.5, 23.7761084498707],\n",
       " [4.6, 24.31441758503681],\n",
       " [4.7, 24.85250970621532],\n",
       " [4.800000000000001, 25.39039884867165],\n",
       " [4.9, 25.92809785369619],\n",
       " [5.0, 26.46561849382884]]"
      ]
     },
     "execution_count": 5,
     "metadata": {},
     "output_type": "execute_result"
    }
   ],
   "source": [
    "desolve_rk4(f, y, ics=[1, 4], end_points=5)"
   ]
  },
  {
   "cell_type": "code",
   "execution_count": 25,
   "metadata": {},
   "outputs": [],
   "source": [
    "def c_euler_m(t0, x10, x20, tend, steps, a11, a12, a21, a22, cutoff = 10):\n",
    "    h = (tend-t0)/steps\n",
    "    traj = [[x10,x20]]\n",
    "    x1current = x10\n",
    "    x2current = x20\n",
    "    for i in range(0,steps):\n",
    "        newx1 = x1current + h*a11*x1current + h*a12*x2current\n",
    "        newx2 = x2current + h*a21*x1current + h*a22*x2current\n",
    "        if newx1 > cutoff or newx2 > cutoff or newx1 < -cutoff or newx2 < -cutoff:\n",
    "            break\n",
    "        traj.append([newx1,newx2])\n",
    "        x1current = newx1\n",
    "        x2current = newx2\n",
    "    return traj"
   ]
  },
  {
   "cell_type": "code",
   "execution_count": 30,
   "metadata": {
    "scrolled": true
   },
   "outputs": [
    {
     "data": {
      "application/vnd.jupyter.widget-view+json": {
       "model_id": "4976168106bc47a1a932679bc19949df",
       "version_major": 2,
       "version_minor": 0
      },
      "text/plain": [
       "Interactive function <function planarsystem at 0x7fc90c5b0820> with 5 widgets\n",
       "  a11: SelectionSlider(descripti…"
      ]
     },
     "metadata": {},
     "output_type": "display_data"
    }
   ],
   "source": [
    "%display ascii_art\n",
    "\n",
    "@interact\n",
    "def planarsystem(a11 = slider(srange(-10,10,1/10),default = 0), a12 = slider(srange(-100,10,1),default = -40), a21 = slider(srange(-10,10,1/10),default = -1), a22 = slider(srange(-10,10,1/10),default = 0), time_tracked = slider(srange(1,100,1.0),default=10)):\n",
    "    A = matrix(RDF,[[a11,a12],[a21,a22]])\n",
    "    eigs = A.eigenvalues()\n",
    "    pretty_print(html('<center>$x\\' = Ax$ dynamics<BR>$A = '+latex(A)+'$, eigenvalues: $%2.2f + %2.2fI, %2.2f + %2.2fI$</center>'%(eigs[0].real(),eigs[0].imag(),eigs[1].real(),eigs[1].imag())))\n",
    "    trajs = Graphics()\n",
    "    for q in srange(0,2*pi,.15):\n",
    "        astart = randint(1,10)\n",
    "        ntraj = c_euler_m(0,cos(q),sin(q),time_tracked,300,a11,a12,a21,a22)\n",
    "        for i in range(astart,len(ntraj)-1,10):\n",
    "            trajs = trajs + arrow(ntraj[i],ntraj[i+1],width=1, arrowsize=2)\n",
    "        trajs = trajs + line(ntraj)\n",
    "        ntraj = c_euler_m(0,cos(q),sin(q),-time_tracked,300,a11,a12,a21,a22)\n",
    "        trajs = trajs + line(ntraj)\n",
    "        for i in range(astart,len(ntraj)-1,10):\n",
    "            trajs = trajs + arrow(ntraj[i+1],ntraj[i],width=1, arrowsize=2)\n",
    "    show(trajs, figsize = [10, 10], xmin = -1, xmax = 1, ymin = -1, ymax = 1)"
   ]
  },
  {
   "cell_type": "code",
   "execution_count": 45,
   "metadata": {},
   "outputs": [
    {
     "data": {
      "text/plain": [
       "[                /    _____\\                        \n",
       "[          b*sinh\\t*\\/ a*b /            /    _____\\ \n",
       "[ x(t) = - ----------------- + x(0)*cosh\\t*\\/ a*b / \n",
       "[                 _____                             \n",
       "[               \\/ a*b                             ,\n",
       "\n",
       "                     /    _____\\                   ]\n",
       "          a*x(0)*sinh\\t*\\/ a*b /       /    _____\\ ]\n",
       " y(t) = - ---------------------- + cosh\\t*\\/ a*b / ]\n",
       "                   _____                           ]\n",
       "                 \\/ a*b                            ]"
      ]
     },
     "execution_count": 45,
     "metadata": {},
     "output_type": "execute_result"
    }
   ],
   "source": [
    "var('a b')\n",
    "var('x y t')\n",
    "x = function('x')(t)\n",
    "y = function('y')(t)\n",
    "e1 = diff(x, t) == -b * y\n",
    "e2 = diff(y, t) == -a * x\n",
    "assume(a > 0, b > 0)\n",
    "desolve_system([e1, e2], [x, y], ivar=t)"
   ]
  }
 ],
 "metadata": {
  "kernelspec": {
   "display_name": "SageMath 9.2",
   "language": "sage",
   "name": "sagemath"
  },
  "language_info": {
   "codemirror_mode": {
    "name": "ipython",
    "version": 3
   },
   "file_extension": ".py",
   "mimetype": "text/x-python",
   "name": "python",
   "nbconvert_exporter": "python",
   "pygments_lexer": "ipython3",
   "version": "3.8.6"
  }
 },
 "nbformat": 4,
 "nbformat_minor": 4
}
